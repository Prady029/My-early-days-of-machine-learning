{
 "metadata": {
  "language_info": {
   "codemirror_mode": {
    "name": "ipython",
    "version": 3
   },
   "file_extension": ".py",
   "mimetype": "text/x-python",
   "name": "python",
   "nbconvert_exporter": "python",
   "pygments_lexer": "ipython3",
   "version": "3.8.10-final"
  },
  "orig_nbformat": 2,
  "kernelspec": {
   "name": "python38864bitbaseconda83e012ae429d43ecb85432b669bd9c68",
   "display_name": "Python 3.8.8 64-bit ('base': conda)"
  }
 },
 "nbformat": 4,
 "nbformat_minor": 2,
 "cells": [
  {
   "cell_type": "code",
   "execution_count": 1,
   "metadata": {},
   "outputs": [],
   "source": [
    "def euclidean(p1,p2):\n",
    "    (a,b),(c,d) = p1,p2 \n",
    "    return ((a-c)**2 + (b-d)**2)**(0.5)"
   ]
  },
  {
   "cell_type": "code",
   "execution_count": 2,
   "metadata": {},
   "outputs": [],
   "source": [
    "def distance_tables(points,centroids):\n",
    "    distance_table=[]\n",
    "    #print(centroids)\n",
    "    for centroid in centroids:\n",
    "        centroid_distance_table=[]\n",
    "        for point in points:\n",
    "            centroid_distance_table.append(euclidean(centroid,point))\n",
    "        distance_table.append(centroid_distance_table)\n",
    "    return distance_table"
   ]
  },
  {
   "cell_type": "code",
   "execution_count": 3,
   "metadata": {},
   "outputs": [],
   "source": [
    "def centroid_finder(cluster):\n",
    "    a_sum=0\n",
    "    b_sum=0\n",
    "    for point in cluster:\n",
    "        #print(point)\n",
    "        (a,b) = point\n",
    "        a_sum+=a\n",
    "        b_sum+=b\n",
    "    a_mean = a_sum/len(cluster)\n",
    "    b_mean = b_sum/len(cluster)\n",
    "    return (a_mean,b_mean)"
   ]
  },
  {
   "cell_type": "code",
   "execution_count": 4,
   "metadata": {},
   "outputs": [],
   "source": [
    "def clusters_assignement(points,centroids):\n",
    "    distances=distance_tables(points,centroids)\n",
    "    cluster_1 = []\n",
    "    cluster_2 = []\n",
    "    centroids = []\n",
    "    for point_idx in range(len(points)):\n",
    "        if distances[0][point_idx] > distances[1][point_idx]:\n",
    "            cluster_1.append(points[point_idx])\n",
    "        else:\n",
    "            cluster_2.append(points[point_idx])\n",
    "    clusters = [cluster_1,cluster_2]\n",
    "    centroids.append(centroid_finder(cluster_1))\n",
    "    centroids.append(centroid_finder(cluster_2))\n",
    "    return clusters,centroids"
   ]
  },
  {
   "cell_type": "code",
   "execution_count": 5,
   "metadata": {},
   "outputs": [],
   "source": [
    "def kmeans(points,centroids,iterations = 10):\n",
    "    clusters = []\n",
    "    final_centroids = centroids\n",
    "    for i in range(iterations):\n",
    "        clusters_tmp,centroids_tmp = clusters_assignement(points,final_centroids)\n",
    "        if clusters_tmp == clusters:\n",
    "            #print(i)\n",
    "            final_centroids = centroids_tmp\n",
    "            return clusters, final_centroids\n",
    "        else:\n",
    "            final_centroids = centroids_tmp\n",
    "            clusters = clusters_tmp\n",
    "    return clusters, final_centroids"
   ]
  },
  {
   "cell_type": "code",
   "execution_count": 6,
   "metadata": {},
   "outputs": [],
   "source": [
    "points=[(0,0),(0,5),(6,7),(7,0)]\n",
    "centroids_1=[(0,0),(7,0)]\n",
    "_,centroids = kmeans(points,centroids_1,iterations = 5 )"
   ]
  },
  {
   "cell_type": "code",
   "execution_count": 7,
   "metadata": {},
   "outputs": [],
   "source": [
    " from sklearn.cluster import KMeans\n",
    " import numpy as np"
   ]
  },
  {
   "cell_type": "code",
   "execution_count": 8,
   "metadata": {},
   "outputs": [],
   "source": [
    "km = KMeans(n_clusters=2,random_state=0).fit(points)"
   ]
  },
  {
   "cell_type": "code",
   "execution_count": 9,
   "metadata": {},
   "outputs": [
    {
     "output_type": "execute_result",
     "data": {
      "text/plain": [
       "[(6.5, 3.5), (0.0, 2.5)]"
      ]
     },
     "metadata": {},
     "execution_count": 9
    }
   ],
   "source": [
    "centroids"
   ]
  },
  {
   "cell_type": "code",
   "execution_count": 10,
   "metadata": {},
   "outputs": [
    {
     "output_type": "execute_result",
     "data": {
      "text/plain": [
       "array([[0. , 2.5],\n",
       "       [6.5, 3.5]])"
      ]
     },
     "metadata": {},
     "execution_count": 10
    }
   ],
   "source": [
    "km.cluster_centers_"
   ]
  },
  {
   "cell_type": "code",
   "execution_count": null,
   "metadata": {},
   "outputs": [],
   "source": []
  }
 ]
}